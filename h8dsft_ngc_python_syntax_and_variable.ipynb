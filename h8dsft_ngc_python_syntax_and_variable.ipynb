{
 "cells": [
  {
   "cell_type": "markdown",
   "metadata": {},
   "source": [
    "# Task 1\n",
    "\n",
    "Given list of customer_id that doing transaction in 1 day:"
   ]
  },
  {
   "cell_type": "code",
   "execution_count": 17,
   "metadata": {},
   "outputs": [
    {
     "name": "stdout",
     "output_type": "stream",
     "text": [
      "{'B341', 'A083', 'B219', 'A461', 'A005', 'A082', 'B439', 'A901', 'B818', 'A092', 'B904', 'B821'}\n",
      "12\n"
     ]
    }
   ],
   "source": [
    "customer_id = ['B818', 'A461', 'A092', 'A082', 'B341', 'A005', 'A092',\n",
    "                'A461','B219', 'B904', 'A901', 'A083', 'B904', 'A092', \n",
    "                'B341', 'B821','B341', 'B821', 'B904', 'B818', 'A901', \n",
    "                'A083', 'B818', 'A082','B219', 'B219', 'A083', 'A901', \n",
    "                'A082', 'B341', 'B341', 'A083','A082', 'B219', 'B439', \n",
    "                'A461', 'A005', 'A901', 'B341', 'A082','A083', 'A461', \n",
    "                'A083', 'A901', 'A461', 'A083', 'A082', 'A083','B341', \n",
    "                'A901', 'A082', 'A461', 'B219', 'A083', 'B818', 'B821',\n",
    "                'A092', 'B341', 'A461', 'A092', 'A083', 'B821', 'A092']\n",
    "\n",
    "#bikin variabel baru untuk mencari unique key dari customer_id menggunakan set\n",
    "uniq_key = set(customer_id)\n",
    "print(uniq_key)\n",
    "\n",
    "#setelah itu jumlahkan unique key nya menggunakan len\n",
    "uniq_key = len(set(customer_id))\n",
    "print(uniq_key)"
   ]
  },
  {
   "cell_type": "markdown",
   "metadata": {},
   "source": [
    "How many unique customer_id from above list?\n",
    "\n",
    "answer :\n",
    "There are 12 unique customer_ids from the data list above. Use set to find the unique key. Then use len to add up the unique key.\n"
   ]
  },
  {
   "cell_type": "markdown",
   "metadata": {},
   "source": [
    "# Task 2"
   ]
  },
  {
   "cell_type": "markdown",
   "metadata": {},
   "source": [
    "Given list of:\n",
    "\n",
    "\n",
    "Data = [1, 4, 9, 16, 25, 36, 49,  64, 81, 100]\n",
    "\n",
    "\n",
    "Use indexing so you can get this output:\n",
    "\n",
    "a.16\n",
    "\n",
    "b.[36, 49, 64, 81]\n",
    "\n",
    "c.[100, 81, 64, 49, 36, 25, 16, 9, 4, 1]\n"
   ]
  },
  {
   "cell_type": "code",
   "execution_count": 32,
   "metadata": {},
   "outputs": [
    {
     "name": "stdout",
     "output_type": "stream",
     "text": [
      "16\n",
      "[36, 49, 64, 81]\n",
      "[100, 81, 64, 49, 36, 25, 16, 9, 4, 1]\n"
     ]
    }
   ],
   "source": [
    "Data = [1, 4, 9, 16, 25, 36, 49,  64, 81, 100]\n",
    "\n",
    "#pada soal a cari nilai 16 pada data di atas, indeks terebut terdapat \n",
    "# pada kolom ke 3 pada dan cari menggunakan list pada sebuah string.\n",
    "print(Data[3])\n",
    "\n",
    "#pada soal b cara mencari nilai tertentu pada daftar Data, \n",
    "# caranya menggunakan slicing untuk menemukan list dari kolom 5 hingga 8 \n",
    "# menggunakan rumus data[5:9]\n",
    "print(Data[5:9])\n",
    "\n",
    "#pada soal c tentukan list dari data di atas menggunakan reverse untuk \n",
    "# mendapatkan list dari kanan ke kiri \n",
    "Data.reverse()\n",
    "print(Data)"
   ]
  },
  {
   "cell_type": "markdown",
   "metadata": {},
   "source": [
    "# Task 3"
   ]
  },
  {
   "cell_type": "markdown",
   "metadata": {},
   "source": [
    "Given a dictionary of:\n",
    "\n",
    "\n",
    "provinsi = {'Nanggroe Aceh Darussalam': 'Aceh','Sumatera Selatan': 'Palembang','Kalimantan Barat': 'Pontianak','Jawa Timur': 'Madiun','Sulawesi Selatan': 'Makassar','Maluku': 'Ambon'}\n",
    "\n",
    "\n",
    "\n",
    "What python command can be use to:\n",
    "\n",
    "a.Get list of keys available in dictionary\n",
    "\n",
    "b.Change 'Jawa Timur' value from 'Madiun'  to 'Surabaya'"
   ]
  },
  {
   "cell_type": "code",
   "execution_count": 35,
   "metadata": {},
   "outputs": [
    {
     "name": "stdout",
     "output_type": "stream",
     "text": [
      "dict_keys(['Nanggroe Aceh Darussalam', 'Sumatera Selatan', 'Kalimantan Barat', 'Jawa Timur', 'Sulawesi Selatan', 'Maluku'])\n",
      "{'Nanggroe Aceh Darussalam': 'Aceh', 'Sumatera Selatan': 'Palembang', 'Kalimantan Barat': 'Pontianak', 'Jawa Timur': 'Madiun', 'Sulawesi Selatan': 'Makassar', 'Maluku': 'Ambon'}\n"
     ]
    },
    {
     "data": {
      "text/plain": [
       "{'Nanggroe Aceh Darussalam': 'Aceh',\n",
       " 'Sumatera Selatan': 'Palembang',\n",
       " 'Kalimantan Barat': 'Pontianak',\n",
       " 'Jawa Timur': 'Surabaya',\n",
       " 'Sulawesi Selatan': 'Makassar',\n",
       " 'Maluku': 'Ambon'}"
      ]
     },
     "execution_count": 35,
     "metadata": {},
     "output_type": "execute_result"
    }
   ],
   "source": [
    "provinsi = {'Nanggroe Aceh Darussalam': 'Aceh',\n",
    "            'Sumatera Selatan': 'Palembang',\n",
    "            'Kalimantan Barat': 'Pontianak',\n",
    "            'Jawa Timur': 'Madiun',\n",
    "            'Sulawesi Selatan': 'Makassar',\n",
    "            'Maluku': 'Ambon'}\n",
    "\n",
    "#pada soal a kita dicari unique keys dari data privinsi di atas menggunakan keys\n",
    "print(provinsi.keys())\n",
    "print(provinsi)\n",
    "\n",
    "#pada soal b kita disuruh untuk mengganti Madiun menjadi Surabaya menggunakan \n",
    "# Accessing Dictionary Values \n",
    "provinsi['Jawa Timur'] = 'Surabaya'\n",
    "provinsi"
   ]
  }
 ],
 "metadata": {
  "kernelspec": {
   "display_name": "Hacktiv8",
   "language": "python",
   "name": "python3"
  },
  "language_info": {
   "codemirror_mode": {
    "name": "ipython",
    "version": 3
   },
   "file_extension": ".py",
   "mimetype": "text/x-python",
   "name": "python",
   "nbconvert_exporter": "python",
   "pygments_lexer": "ipython3",
   "version": "3.11.5"
  },
  "orig_nbformat": 4
 },
 "nbformat": 4,
 "nbformat_minor": 2
}
